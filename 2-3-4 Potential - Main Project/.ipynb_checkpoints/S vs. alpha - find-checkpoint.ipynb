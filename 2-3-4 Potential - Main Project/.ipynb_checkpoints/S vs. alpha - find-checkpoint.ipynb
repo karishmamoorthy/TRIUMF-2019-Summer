{
 "cells": [
  {
   "cell_type": "code",
   "execution_count": 1,
   "metadata": {},
   "outputs": [],
   "source": [
    "import numpy as np"
   ]
  },
  {
   "cell_type": "code",
   "execution_count": 2,
   "metadata": {},
   "outputs": [],
   "source": [
    "alpha_eff_array = []\n",
    "\n",
    "file1 = open(\"var_quar_pot_act_versions_alpha_vals.txt\", \"r\")\n",
    "for line1 in file1:\n",
    "    for word1 in line1.split(): \n",
    "        alpha_eff_array.append(float(word1))\n",
    "file1.close()"
   ]
  },
  {
   "cell_type": "code",
   "execution_count": 3,
   "metadata": {},
   "outputs": [],
   "source": [
    "import Var_Quar_Pot_Act"
   ]
  },
  {
   "cell_type": "code",
   "execution_count": 7,
   "metadata": {},
   "outputs": [
    {
     "name": "stdout",
     "output_type": "stream",
     "text": [
      "#     Alpha     S       R     Phi_0\n",
      "(1, 0.54, 51.77058131409201, array(10.69925549), 0.9988465780516903)\n",
      "(2, 0.5389743846153846, 54.50916199624214, array(10.92102718), 0.999060488154335)\n",
      "(3, 0.5379487692307693, 57.468722460573446, array(11.15489884), 0.9992433102737159)\n",
      "(4, 0.5369231538461539, 60.674500446292235, array(11.40202429), 0.9993980966795208)\n",
      "(5, 0.5358975384615385, 64.15408693331628, array(11.66350181), 0.9995276356295273)\n",
      "(6, 0.5348719230769231, 67.94143910219249, array(11.94106343), 0.9996349326631132)\n",
      "(7, 0.5338463076923077, 72.07477396547772, array(12.23668374), 0.9997227192825096)\n",
      "(8, 0.5328206923076924, 76.6040352030204, array(12.55418057), 0.9997939176249582)\n",
      "(9, 0.5317950769230769, 81.5896980648867, array(12.89965958), 0.9998511643418848)\n",
      "(10, 0.5307694615384616, 87.1113279120643, array(13.28609067), 0.9998971123751106)\n",
      "(11, 0.5297438461538462, 93.2981560135298, array(13.75813319), 0.999935413335999)\n",
      "(12, 0.5287182307692309, 99.62205969690999, array(14.00342725), 0.9999462185069887)\n",
      "(13, 0.5276926153846154, 107.01701529442164, array(14.43669883), 0.9999641088960703)\n",
      "(14, 0.526667, 115.26935242561213, array(14.90312863), 0.9999767942211937)\n",
      "(15, 0.5256413846153847, 124.51797004220518, array(15.40668417), 0.9999855195155526)\n",
      "(16, 0.5246157692307692, 134.93118313249715, array(15.95200098), 0.9999913186956081)\n",
      "(17, 0.5235901538461539, 146.71447206299453, array(16.5445016), 0.9999950260007762)\n",
      "(18, 0.5225645384615385, 160.1208711851951, array(17.19059644), 0.9999972933779847)\n",
      "(19, 0.5215389230769231, 175.46504659069316, array(17.89801406), 0.9999986117588611)\n",
      "(20, 0.5205133076923077, 193.14129657404777, array(18.67574771), 0.9999993347138189)\n",
      "(21, 0.5194876923076923, 213.6509396725107, array(19.53510065), 0.9999997053955252)\n",
      "(22, 0.518462076923077, 237.63662037726175, array(20.48936797), 0.9999998810093746)\n",
      "(23, 0.5174364615384616, 265.9393439716939, array(21.55700924), 0.9999999569587459)\n",
      "(24, 0.5164108461538461, 299.6598322856295, array(22.75098532), 0.9999999862225686)\n",
      "(25, 0.5153852307692308, 340.28743410445685, array(24.11654667), 0.9999999962736086)\n",
      "(26, 0.5143596153846154, 389.88313789938627, array(25.6841307), 0.9999999991730459)\n",
      "(27, 0.5133340000000001, 451.7477736577242, array(27.96630716), 0.9999999999118859)\n",
      "(28, 0.5123083846153846, 663.120704052089, 31.77405693713106, 1)\n",
      "(29, 0.5112827692307692, 874.4936344464534, 35.58180671009289, 1)\n",
      "(30, 0.5102571538461539, 1085.866564840795, 39.38955648305432, 1)\n",
      "(31, 0.5092315384615385, 1297.2394952351597, 43.19730625601615, 1)\n",
      "(32, 0.5082059230769231, 1508.612425629501, 47.00505602897758, 1)\n",
      "(33, 0.5071803076923077, 1719.9853560238657, 50.81280580193941, 1)\n",
      "(34, 0.5061546923076924, 1931.3582864182072, 54.620555574900834, 1)\n",
      "(35, 0.505129076923077, 2142.731216812572, 58.42830534786267, 1)\n",
      "(36, 0.5041034615384615, 3544.347454247866, 74.4347560801045, 1)\n",
      "(37, 0.5030778461538462, 6681.409051978693, 101.20163133121346, 1)\n",
      "(38, 0.5020522307692308, 15976.668306319243, 154.90560662754493, 1)\n",
      "(39, 0.5010266153846155, 68145.49164487646, 316.463467563147, 1)\n",
      "(40, 0.500001, 77559078991.7172, 333317.4186878909, 1)\n"
     ]
    }
   ],
   "source": [
    "alpha_eff_array = np.array(alpha_eff_array[::-1])\n",
    "dof = 3\n",
    "\n",
    "compare1 = list(abs(alpha_eff_array - 0.506))\n",
    "find_index1 = compare1.index(min(compare1))\n",
    "if alpha_eff_array[find_index1] > 0.506:\n",
    "    find_index1 = find_index1 + 1\n",
    "\n",
    "compare2 = list(abs(alpha_eff_array - 0.513))\n",
    "find_index2 = compare2.index(min(compare2))\n",
    "if alpha_eff_array[find_index2] < 0.513:\n",
    "    find_index2 = find_index2 - 1\n",
    "\n",
    "a1_3 = list(alpha_eff_array)[:(find_index2 + 1)]\n",
    "a2_3 = list(alpha_eff_array)[find_index1:] \n",
    "a3_3 = list(alpha_eff_array)[(find_index2 + 1):find_index1]\n",
    "\n",
    "if 0.5 in a2_3:\n",
    "    find_index3 = a2_3.index(0.5)\n",
    "    a2_3[find_index3] = 0.500001\n",
    "    \n",
    "s_vals = []\n",
    "r_vals = []\n",
    "p_vals = []\n",
    "\n",
    "linear_bound_l = []\n",
    "linear_bound_u = []\n",
    "    \n",
    "print(\"#     Alpha     S       R     Phi_0\")\n",
    "for a in a1_3:\n",
    "    s, r, phi_0 = Var_Quar_Pot_Act.get_S(a, D=dof)\n",
    "    s_vals.append(s)\n",
    "    r_vals.append(r)\n",
    "    p_vals.append(phi_0)\n",
    "    print((len(s_vals), a, s_vals[-1], r_vals[-1], p_vals[-1]))\n",
    "    if a == a1_3[-1]:\n",
    "        linear_bound_u.append(a)\n",
    "        linear_bound_u.append(s)\n",
    "        linear_bound_u.append(r)\n",
    "    \n",
    "s_buffer, r_buffer, phi_0_buffer = Var_Quar_Pot_Act.get_S(a2_3[0], D=dof)\n",
    "linear_bound_l.append(a2_3[0])\n",
    "linear_bound_l.append(s_buffer)\n",
    "linear_bound_l.append(r_buffer)\n",
    "    \n",
    "for a in a3_3:\n",
    "    s, r, phi_0 = Var_Quar_Pot_Act.get_S(a, al_506= linear_bound_l, al_513= linear_bound_u, D=dof)\n",
    "    s_vals.append(s)\n",
    "    r_vals.append(r)\n",
    "    p_vals.append(phi_0)\n",
    "    print((len(s_vals), a, s_vals[-1], r_vals[-1], p_vals[-1]))\n",
    "    \n",
    "s_vals.append(s_buffer)\n",
    "r_vals.append(r_buffer)\n",
    "p_vals.append(phi_0_buffer)\n",
    "print((len(s_vals), a2_3[0], s_vals[-1], r_vals[-1], p_vals[-1]))\n",
    "    \n",
    "for a in a2_3[1:]:\n",
    "    s, r, phi_0 = Var_Quar_Pot_Act.get_S(a, D=dof)\n",
    "    s_vals.append(s)\n",
    "    r_vals.append(r)\n",
    "    p_vals.append(phi_0)\n",
    "    print((len(s_vals), a, s_vals[-1], r_vals[-1], p_vals[-1]))"
   ]
  },
  {
   "cell_type": "code",
   "execution_count": 8,
   "metadata": {},
   "outputs": [],
   "source": [
    "file = open(\"var_quar_pot_act_S_vals.txt\", \"w+\")\n",
    "for i in s_vals[::-1]:\n",
    "    file.write(str(i) + \" \\n\")\n",
    "file.close()\n",
    "\n",
    "file = open(\"var_quar_pot_act_R_vals.txt\", \"w+\")\n",
    "for i in r_vals[::-1]:\n",
    "    file.write(str(i) + \" \\n\")\n",
    "file.close()\n",
    "\n",
    "file = open(\"var_quar_pot_act_P_vals.txt\", \"w+\")\n",
    "for i in p_vals[::-1]:\n",
    "    file.write(str(i) + \" \\n\")\n",
    "file.close()"
   ]
  },
  {
   "cell_type": "code",
   "execution_count": null,
   "metadata": {},
   "outputs": [],
   "source": []
  }
 ],
 "metadata": {
  "kernelspec": {
   "display_name": "Python 3",
   "language": "python",
   "name": "python3"
  },
  "language_info": {
   "codemirror_mode": {
    "name": "ipython",
    "version": 3
   },
   "file_extension": ".py",
   "mimetype": "text/x-python",
   "name": "python",
   "nbconvert_exporter": "python",
   "pygments_lexer": "ipython3",
   "version": "3.6.8"
  }
 },
 "nbformat": 4,
 "nbformat_minor": 2
}
